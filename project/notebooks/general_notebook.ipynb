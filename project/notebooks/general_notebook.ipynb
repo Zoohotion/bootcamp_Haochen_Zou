{
 "cells": [
  {
   "cell_type": "code",
   "execution_count": 1,
   "id": "3d09436d-0eaa-4a72-a35f-259bce4fd1c0",
   "metadata": {},
   "outputs": [
    {
     "name": "stdout",
     "output_type": "stream",
     "text": [
      "Current working directory: D:\\bootcamp_Haochen_Zou\\project\n"
     ]
    }
   ],
   "source": [
    "import os\n",
    "import sys\n",
    "from pathlib import Path\n",
    "import pandas as pd\n",
    "import numpy as np\n",
    "import requests\n",
    "\n",
    "# Project root adjustment (avoid \"notebooks/\" path issue)\n",
    "cwd = Path().resolve()\n",
    "if cwd.name == \"notebooks\":\n",
    "    os.chdir(cwd.parent)\n",
    "print(\"Current working directory:\", Path().resolve())\n",
    "\n",
    "# Define data directories\n",
    "raw_dir = Path(\"data/raw\")\n",
    "processed_dir = Path(\"data/processed\")\n",
    "raw_dir.mkdir(parents=True, exist_ok=True)\n",
    "processed_dir.mkdir(parents=True, exist_ok=True)"
   ]
  },
  {
   "cell_type": "code",
   "execution_count": 4,
   "id": "525ebbde-6a3b-41f9-a09c-2692eb46e2cc",
   "metadata": {},
   "outputs": [
    {
     "name": "stdout",
     "output_type": "stream",
     "text": [
      " File already exists at data\\raw\\OnlineRetail.xlsx\n",
      "File exists: True\n",
      "File path: data\\raw\\OnlineRetail.xlsx\n",
      "Raw dataset shape: (541909, 8)\n",
      "  InvoiceNo StockCode                          Description  Quantity  \\\n",
      "0    536365    85123A   WHITE HANGING HEART T-LIGHT HOLDER         6   \n",
      "1    536365     71053                  WHITE METAL LANTERN         6   \n",
      "2    536365    84406B       CREAM CUPID HEARTS COAT HANGER         8   \n",
      "3    536365    84029G  KNITTED UNION FLAG HOT WATER BOTTLE         6   \n",
      "4    536365    84029E       RED WOOLLY HOTTIE WHITE HEART.         6   \n",
      "\n",
      "          InvoiceDate  UnitPrice  CustomerID         Country  \n",
      "0 2010-12-01 08:26:00       2.55     17850.0  United Kingdom  \n",
      "1 2010-12-01 08:26:00       3.39     17850.0  United Kingdom  \n",
      "2 2010-12-01 08:26:00       2.75     17850.0  United Kingdom  \n",
      "3 2010-12-01 08:26:00       3.39     17850.0  United Kingdom  \n",
      "4 2010-12-01 08:26:00       3.39     17850.0  United Kingdom  \n"
     ]
    }
   ],
   "source": [
    "project_root = Path().resolve()\n",
    "sys.path.append(str(project_root / \"src\"))\n",
    "from download import download_online_retail \n",
    "raw_file = download_online_retail(raw_dir)\n",
    "print(\"File exists:\", Path(raw_file).exists())\n",
    "print(\"File path:\", raw_file)\n",
    "df = pd.read_excel(raw_file)\n",
    "print(\"Raw dataset shape:\", df.shape)\n",
    "df.head()"
   ]
  },
  {
   "cell_type": "code",
   "execution_count": null,
   "id": "18b3ac7b-9995-468d-9924-5e58b7303944",
   "metadata": {},
   "outputs": [],
   "source": [
    "print(\"\\n--- Basic Info ---\")\n",
    "df.info()\n",
    "\n",
    "print(\"\\n--- Missing Values ---\")\n",
    "print(df.isnull().sum())\n",
    "\n",
    "print(\"\\n--- Descriptive Stats ---\")\n",
    "print(df.describe())\n",
    "\n",
    "from src import cleaning\n",
    "\n",
    "# Example cleaning steps:\n",
    "df = cleaning.fill_missing_median(df)             # fill numeric NaN with median\n",
    "df = cleaning.drop_missing(df, threshold=0.5)     # drop cols with >50% missing\n",
    "#df = cleaning.normalize_data(df)                  # normalize numeric columns\n",
    "\n",
    "print(\"Cleaned dataset shape:\", df.shape)\n",
    "\n",
    "output_file = processed_dir / \"cleaned_data.csv\"\n",
    "df.to_csv(output_file, index=False)\n",
    "print(f\"✅ Cleaned dataset saved to {output_file}\")"
   ]
  },
  {
   "cell_type": "markdown",
   "id": "c9ba8c04-4134-412c-b3c0-9942157854d0",
   "metadata": {},
   "source": [
    "## **Because I am not sure about the exact process of data cleaning in this project, I didn't run the demo program teacher gave us in order to avoid damage to original data. Also, I didn't figure out how to clean the data so far.**"
   ]
  },
  {
   "cell_type": "code",
   "execution_count": null,
   "id": "92ca8e71-6a99-4a43-8d63-ff98bfdaee09",
   "metadata": {},
   "outputs": [],
   "source": []
  }
 ],
 "metadata": {
  "kernelspec": {
   "display_name": "Python (fe-course)",
   "language": "python",
   "name": "fe-course"
  },
  "language_info": {
   "codemirror_mode": {
    "name": "ipython",
    "version": 3
   },
   "file_extension": ".py",
   "mimetype": "text/x-python",
   "name": "python",
   "nbconvert_exporter": "python",
   "pygments_lexer": "ipython3",
   "version": "3.11.13"
  }
 },
 "nbformat": 4,
 "nbformat_minor": 5
}
