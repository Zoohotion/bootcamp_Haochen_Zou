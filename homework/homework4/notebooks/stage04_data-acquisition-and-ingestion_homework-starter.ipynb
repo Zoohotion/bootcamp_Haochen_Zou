{
 "cells": [
  {
   "cell_type": "markdown",
   "id": "884d466e-baa9-4435-b42b-9ef0f393c43f",
   "metadata": {},
   "source": [
    "# Homework4\n",
    "## Webcrawler using alphadvantage"
   ]
  },
  {
   "cell_type": "markdown",
   "id": "bf2cbfee-ce5a-478a-a039-e92fc750ff82",
   "metadata": {},
   "source": [
    "### Data Source\n",
    " **Provider**: [Alpha Vantage](https://www.alphavantage.co/)\n",
    " **Endpoint**: `TIME_SERIES_DAILY_ADJUSTED`\n",
    " **Ticker**: `AAPL` (Apple Inc.)\n",
    " **Access**: Free tier (requires API key)\n",
    " **API Documentation**: [Alpha Vantage Docs](https://www.alphavantage.co/documentation/)\n",
    "\n",
    "\n",
    "### Data Range\n",
    "\n",
    " **Output Size**: `compact` (last 100 data points)\n",
    " **Frequency**: Daily\n",
    " **Coverage**: Adjusted historical OHLCV (Open, High, Low, Close, Volume) + corporate actions like splits/dividends\n",
    "\n",
    "### Logic & Workflow\n",
    "\n",
    "1. **Environment Setup**  \n",
    "   Load necessary libraries and API key from `.env` using `dotenv`.\n",
    "     \n",
    "2. **API Request**  \n",
    "   Use `requests.get()` to call the Alpha Vantage API, passing in function, symbol, and key.\n",
    "     \n",
    "3. **Parsing & Cleaning** \n",
    "   IdothisIdothat\n",
    "\n",
    "4. **Validation**  \n",
    "   balah balah\n",
    "\n",
    "5. **Save to Local**  \n",
    "   Ensure output directory exists: `data/raw/`.\n",
    "   Save as `aapl_api.csv`.\n",
    "\n",
    "### ⚠️ Assumptions & Risks\n",
    "\n",
    "| Type | Details |\n",
    "|------|---------|\n",
    "| **Assumptions** | - API key is valid and available in `.env`<br>- API response structure is stable<br>- \"compact\" size (last ~100 days) is sufficient |\n",
    "| **Risks** | - Free API rate limit (5 requests/min, 500/day)<br>- API format or endpoint may change<br>- `.env` file must be added to `.gitignore`<br>- Market holidays cause missing dates |\n"
   ]
  },
  {
   "cell_type": "code",
   "execution_count": 9,
   "id": "6a9fd0b7-7393-474a-b882-0bcbd801b013",
   "metadata": {},
   "outputs": [],
   "source": [
    "## Code"
   ]
  },
  {
   "cell_type": "code",
   "execution_count": 8,
   "id": "3525a836-7aed-4635-9556-a00c0a1d96f2",
   "metadata": {},
   "outputs": [
    {
     "name": "stdout",
     "output_type": "stream",
     "text": [
      "✅ Data shape: (100, 5)\n",
      "✅ Missing values:\n",
      " open      0\n",
      "high      0\n",
      "low       0\n",
      "close     0\n",
      "volume    0\n",
      "dtype: int64\n",
      "✅ Saved to D:\\bootcamp_Haochen_Zou\\homework\\homework4\\data\\raw\\aapl_api.csv\n"
     ]
    }
   ],
   "source": [
    "import os\n",
    "import requests\n",
    "import pandas as pd\n",
    "from dotenv import load_dotenv\n",
    "from pathlib import Path\n",
    "\n",
    "load_dotenv()\n",
    "\n",
    "API_KEY = os.getenv(\"ALPHAVANTAGE_API_KEY\")\n",
    "symbol = \"AAPL\"\n",
    "url = f\"https://www.alphavantage.co/query\"\n",
    "params = {\n",
    "    \"function\": \"TIME_SERIES_DAILY\",\n",
    "    \"symbol\": symbol,\n",
    "    \"outputsize\": \"compact\",  \n",
    "    \"datatype\": \"json\",\n",
    "    \"apikey\": API_KEY\n",
    "}\n",
    "\n",
    "response = requests.get(url, params=params)\n",
    "data = response.json()\n",
    "\n",
    "ts = data.get(\"Time Series (Daily)\", {})\n",
    "df = pd.DataFrame.from_dict(ts, orient=\"index\")\n",
    "df.index = pd.to_datetime(df.index)\n",
    "df = df.sort_index()\n",
    "\n",
    "df.columns = [col.split(\". \")[1] for col in df.columns]\n",
    "df = df.astype(float)\n",
    "\n",
    "print(\"✅ Data shape:\", df.shape)\n",
    "print(\"✅ Missing values:\\n\", df.isna().sum())\n",
    "\n",
    "project_root = Path().resolve().parent  # 根目录---Frank持有权限-copyright \n",
    "output_path = project_root/\"data\"/\"raw\"/\"aapl_api.csv\"\n",
    "output_path.parent.mkdir(parents=True, exist_ok=True)\n",
    "df.to_csv(output_path, index=False)\n",
    "print(f\"✅ Saved to {output_path.resolve()}\")"
   ]
  }
 ],
 "metadata": {
  "kernelspec": {
   "display_name": "Python (fe-course)",
   "language": "python",
   "name": "fe-course"
  },
  "language_info": {
   "codemirror_mode": {
    "name": "ipython",
    "version": 3
   },
   "file_extension": ".py",
   "mimetype": "text/x-python",
   "name": "python",
   "nbconvert_exporter": "python",
   "pygments_lexer": "ipython3",
   "version": "3.11.13"
  }
 },
 "nbformat": 4,
 "nbformat_minor": 5
}
