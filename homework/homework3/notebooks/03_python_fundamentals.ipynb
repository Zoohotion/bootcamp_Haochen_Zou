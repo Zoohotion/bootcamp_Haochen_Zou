{
 "cells": [
  {
   "cell_type": "markdown",
   "id": "c12059a9-0732-4868-b458-251befd2608c",
   "metadata": {},
   "source": [
    "# Homework 3\n",
    "## set up"
   ]
  },
  {
   "cell_type": "code",
   "execution_count": 3,
   "id": "03356585-3423-4c89-8952-9a5230e16e42",
   "metadata": {},
   "outputs": [
    {
     "name": "stdout",
     "output_type": "stream",
     "text": [
      "D:\\bootcamp_Haochen_Zou\\homework\\homework3\\notebook\n"
     ]
    }
   ],
   "source": [
    "import os\n",
    "print(os.getcwd())"
   ]
  },
  {
   "cell_type": "code",
   "execution_count": 26,
   "id": "2fd9ef80-2381-4637-8434-e949396557c8",
   "metadata": {},
   "outputs": [],
   "source": [
    "import sys\n",
    "from pathlib import Path\n",
    "sys.path.append(str(Path().resolve().parent))\n",
    "from src.utils import get_summary_stats  \n",
    "import numpy as np\n",
    "import pandas as pd\n",
    "import matplotlib.pyplot as plt\n",
    "from pathlib import Path\n",
    "\n",
    "project_root = Path().resolve().parent \n",
    "data_path = project_root / \"data\" / \"starter_data.csv\"\n",
    "\n",
    "output_path = project_root / \"data\" / \"processed\"\n",
    "output_path.mkdir(parents=True, exist_ok=True)"
   ]
  },
  {
   "cell_type": "markdown",
   "id": "5566763d-0376-4b69-b1d6-252e9e9da97e",
   "metadata": {},
   "source": [
    "## Elementwise Operations"
   ]
  },
  {
   "cell_type": "code",
   "execution_count": 11,
   "id": "b0bbc1ba-5046-4283-99d8-14bec6f09280",
   "metadata": {},
   "outputs": [
    {
     "name": "stdout",
     "output_type": "stream",
     "text": [
      "Original: [10 20 30 40 50]\n",
      "Add 5: [15 25 35 45 55]\n",
      "Squared: [ 100  400  900 1600 2500]\n",
      "Loop time: 0.0\n",
      "Vectorized time: 0.0\n"
     ]
    }
   ],
   "source": [
    "arr = np.array([10, 20, 30, 40, 50])\n",
    "print(\"Original:\", arr)\n",
    "print(\"Add 5:\", arr + 5)\n",
    "print(\"Squared:\", arr ** 2)\n",
    "import time\n",
    "\n",
    "start = time.time()\n",
    "loop_result = [x * 2 for x in arr]\n",
    "end = time.time()\n",
    "print(\"Loop time:\", end - start)\n",
    "\n",
    "start = time.time()\n",
    "vec_result = arr * 2\n",
    "end = time.time()\n",
    "print(\"Vectorized time:\", end - start)"
   ]
  },
  {
   "cell_type": "markdown",
   "id": "553c7636-a204-46c2-a7e6-2cadec75f4b3",
   "metadata": {},
   "source": [
    "## Load Dataset and Summary Statistics"
   ]
  },
  {
   "cell_type": "code",
   "execution_count": 20,
   "id": "8ef35f76-bf7e-470a-b63e-bbd93daa0ae7",
   "metadata": {},
   "outputs": [
    {
     "name": "stdout",
     "output_type": "stream",
     "text": [
      "<class 'pandas.core.frame.DataFrame'>\n",
      "RangeIndex: 10 entries, 0 to 9\n",
      "Data columns (total 3 columns):\n",
      " #   Column    Non-Null Count  Dtype \n",
      "---  ------    --------------  ----- \n",
      " 0   category  10 non-null     object\n",
      " 1   value     10 non-null     int64 \n",
      " 2   date      10 non-null     object\n",
      "dtypes: int64(1), object(2)\n",
      "memory usage: 372.0+ bytes\n",
      "           value\n",
      "count  10.000000\n",
      "mean   17.600000\n",
      "std     7.381659\n",
      "min    10.000000\n",
      "25%    12.250000\n",
      "50%    14.500000\n",
      "75%    23.250000\n",
      "max    30.000000\n",
      "<pandas.core.groupby.generic.DataFrameGroupBy object at 0x000002503574FCD0>\n"
     ]
    }
   ],
   "source": [
    "df = pd.read_csv(data_path)\n",
    "df.info()\n",
    "df.head()\n",
    "\n",
    "summary = get_summary_stats(df)\n",
    "print(summary)\n",
    "\n",
    "grouped = df.groupby(\"category\")\n",
    "print(grouped)"
   ]
  },
  {
   "cell_type": "markdown",
   "id": "09f981ce-e447-4088-9c2c-b6595560dfd6",
   "metadata": {},
   "source": [
    "## Save result"
   ]
  },
  {
   "cell_type": "code",
   "execution_count": 27,
   "id": "2f594d2f-c9ee-4df0-8fa9-c66fd246a86b",
   "metadata": {},
   "outputs": [],
   "source": [
    "summary.to_csv(output_path / \"summary.csv\")\n",
    "summary.to_json(output_path / \"summary.json\")\n",
    "\n",
    "df[\"value\"].hist()\n",
    "plt.title(\"Distribution of numeric_column\")\n",
    "plt.savefig(output_path / \"histogram.png\")\n",
    "plt.close()"
   ]
  },
  {
   "cell_type": "code",
   "execution_count": null,
   "id": "19f21f32-d559-443a-b018-dfd45a69820f",
   "metadata": {},
   "outputs": [],
   "source": []
  }
 ],
 "metadata": {
  "kernelspec": {
   "display_name": "Python (fe-course)",
   "language": "python",
   "name": "fe-course"
  },
  "language_info": {
   "codemirror_mode": {
    "name": "ipython",
    "version": 3
   },
   "file_extension": ".py",
   "mimetype": "text/x-python",
   "name": "python",
   "nbconvert_exporter": "python",
   "pygments_lexer": "ipython3",
   "version": "3.11.13"
  }
 },
 "nbformat": 4,
 "nbformat_minor": 5
}
