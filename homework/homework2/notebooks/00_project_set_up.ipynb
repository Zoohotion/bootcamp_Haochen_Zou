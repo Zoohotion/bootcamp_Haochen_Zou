{
 "cells": [
  {
   "cell_type": "markdown",
   "id": "3a6ad71e-c49b-43d9-917e-9f44e8cc91c7",
   "metadata": {},
   "source": [
    "# Environment & Config Check\n"
   ]
  },
  {
   "cell_type": "code",
   "execution_count": 2,
   "id": "425af88e-39b5-4084-9eb9-eb8990354ea9",
   "metadata": {},
   "outputs": [
    {
     "name": "stdout",
     "output_type": "stream",
     "text": [
      "D:\\bootcamp_Haochen_Zou\\homework\\homework2\\notebooks\n"
     ]
    }
   ],
   "source": [
    "import os\n",
    "print(os.getcwd())"
   ]
  },
  {
   "cell_type": "code",
   "execution_count": 3,
   "id": "d84b7ef9-795b-4a20-b3f1-d1fb8d98fedd",
   "metadata": {},
   "outputs": [
    {
     "name": "stdout",
     "output_type": "stream",
     "text": [
      "切换后目录： D:\\bootcamp_Haochen_Zou\\homework\\homework2\n"
     ]
    }
   ],
   "source": [
    "os.chdir(\"..\")\n",
    "print(\"切换后目录：\", os.getcwd())"
   ]
  },
  {
   "cell_type": "code",
   "execution_count": 4,
   "id": "a56480fe-2f2e-4014-8ad5-b283fd41b2ae",
   "metadata": {},
   "outputs": [
    {
     "name": "stdout",
     "output_type": "stream",
     "text": [
      "API_KEY: dummy_key_123\n",
      "DATA_DIR: ./data\n",
      "Numpy Test: [11 12 13]\n"
     ]
    }
   ],
   "source": [
    "from src.config import load_env, get_key\n",
    "import numpy as np\n",
    "\n",
    "load_env()\n",
    "print(\"API_KEY:\", get_key(\"API_KEY\"))\n",
    "print(\"DATA_DIR:\", get_key(\"DATA_DIR\"))\n",
    "print(\"Numpy Test:\", np.array([1, 2, 3]) + 10)\n"
   ]
  },
  {
   "cell_type": "code",
   "execution_count": null,
   "id": "03798ba6-19d3-464c-9e63-29f4873e2d70",
   "metadata": {},
   "outputs": [],
   "source": []
  }
 ],
 "metadata": {
  "kernelspec": {
   "display_name": "Python (fe-course)",
   "language": "python",
   "name": "fe-course"
  },
  "language_info": {
   "codemirror_mode": {
    "name": "ipython",
    "version": 3
   },
   "file_extension": ".py",
   "mimetype": "text/x-python",
   "name": "python",
   "nbconvert_exporter": "python",
   "pygments_lexer": "ipython3",
   "version": "3.11.13"
  }
 },
 "nbformat": 4,
 "nbformat_minor": 5
}
